{
 "cells": [
  {
   "cell_type": "markdown",
   "id": "2561ba85",
   "metadata": {},
   "source": [
    "\n",
    "# Hybrid Swarm Intelligence IDS\n",
    "This notebook develops and evaluates a **hybrid swarm intelligence model** combining ACO, PSO, ABC, and MWPA for intrusion detection using the **NSL-KDD** dataset.\n",
    "**Metrics**: Classification accuracy, False Positive Rate (FPR), Convergence speed, Computational efficiency.\n"
   ]
  },
  {
   "cell_type": "code",
   "execution_count": null,
   "id": "3fe2b840",
   "metadata": {},
   "outputs": [],
   "source": [
    "\n",
    "!pip install pyswarms scikit-learn pandas numpy matplotlib seaborn scipy -q\n"
   ]
  },
  {
   "cell_type": "code",
   "execution_count": null,
   "id": "ac4cb2ad",
   "metadata": {},
   "outputs": [],
   "source": [
    "\n",
    "import numpy as np\n",
    "import pandas as pd\n",
    "import matplotlib.pyplot as plt\n",
    "import seaborn as sns\n",
    "from sklearn.model_selection import train_test_split, RandomizedSearchCV\n",
    "from sklearn.preprocessing import LabelEncoder, StandardScaler\n",
    "from sklearn.ensemble import RandomForestClassifier\n",
    "from sklearn.svm import SVC\n",
    "from sklearn.neural_network import MLPClassifier\n",
    "from sklearn.metrics import accuracy_score, confusion_matrix, classification_report, roc_auc_score\n",
    "import pyswarms as ps\n",
    "from scipy.optimize import rosen, rosen_der\n"
   ]
  },
  {
   "cell_type": "markdown",
   "id": "68c29a40",
   "metadata": {},
   "source": [
    "\n",
    "## Load NSL-KDD Dataset\n",
    "You can upload the file manually or modify the path.\n"
   ]
  },
  {
   "cell_type": "code",
   "execution_count": null,
   "id": "220b160c",
   "metadata": {},
   "outputs": [],
   "source": [
    "\n",
    "url = \"https://raw.githubusercontent.com/defcom17/NSL_KDD/master/KDDTrain+.txt\"\n",
    "columns_url = \"https://raw.githubusercontent.com/defcom17/NSL_KDD/master/KDDFeatureNames.txt\"\n",
    "\n",
    "# Load feature names\n",
    "features = pd.read_csv(columns_url, sep=\":\", header=None)\n",
    "feature_names = features[0].tolist() + ['target']\n",
    "\n",
    "# Load dataset\n",
    "data = pd.read_csv(url, names=feature_names)\n",
    "\n",
    "data.head()\n"
   ]
  },
  {
   "cell_type": "markdown",
   "id": "f3fb5241",
   "metadata": {},
   "source": [
    "\n",
    "## Preprocessing\n",
    "Label encode categorical features, normalize, and split the dataset.\n"
   ]
  },
  {
   "cell_type": "code",
   "execution_count": null,
   "id": "6077ee8c",
   "metadata": {},
   "outputs": [],
   "source": [
    "\n",
    "# Encode categoricals\n",
    "categorical_cols = data.select_dtypes(include='object').columns\n",
    "for col in categorical_cols:\n",
    "    le = LabelEncoder()\n",
    "    data[col] = le.fit_transform(data[col])\n",
    "\n",
    "# Features/target\n",
    "X = data.drop('target', axis=1)\n",
    "y = data['target'].apply(lambda x: 0 if x == 0 else 1)  # binary classification\n",
    "\n",
    "# Normalize\n",
    "scaler = StandardScaler()\n",
    "X_scaled = scaler.fit_transform(X)\n",
    "\n",
    "# Split\n",
    "X_train, X_test, y_train, y_test = train_test_split(X_scaled, y, test_size=0.3, random_state=42)\n"
   ]
  },
  {
   "cell_type": "markdown",
   "id": "588300ff",
   "metadata": {},
   "source": [
    "\n",
    "## Hybrid Swarm Intelligence Feature Selection\n",
    "Combining PSO and custom feature selection mechanism.\n"
   ]
  },
  {
   "cell_type": "code",
   "execution_count": null,
   "id": "591f9fce",
   "metadata": {},
   "outputs": [],
   "source": [
    "\n",
    "# Fitness function for feature selection\n",
    "def feature_fitness(particle, X, y):\n",
    "    subset = np.where(particle > 0.5)[0]\n",
    "    if subset.shape[0] == 0:\n",
    "        return 1.0  # worst score\n",
    "    X_selected = X[:, subset]\n",
    "    clf = RandomForestClassifier(n_estimators=30)\n",
    "    clf.fit(X_selected, y)\n",
    "    preds = clf.predict(X_selected)\n",
    "    acc = accuracy_score(y, preds)\n",
    "    # minimize (1-accuracy) + penalty for number of features\n",
    "    return 1.0 - acc + 0.01 * (len(subset) / X.shape[1])\n",
    "\n",
    "# Wrapper\n",
    "def pso_feature_selection(X, y):\n",
    "    dims = X.shape[1]\n",
    "    options = {'c1': 0.5, 'c2': 0.3, 'w':0.9}\n",
    "    optimizer = ps.discrete.BinaryPSO(n_particles=30, dimensions=dims, options=options)\n",
    "    cost, pos = optimizer.optimize(feature_fitness, iters=30, X=X, y=y)\n",
    "    selected_features = np.where(pos > 0.5)[0]\n",
    "    return selected_features\n",
    "\n",
    "selected_features = pso_feature_selection(X_train, y_train)\n",
    "X_train_sel = X_train[:, selected_features]\n",
    "X_test_sel = X_test[:, selected_features]\n"
   ]
  },
  {
   "cell_type": "markdown",
   "id": "39e8763a",
   "metadata": {},
   "source": [
    "\n",
    "## Model Training\n",
    "Train Random Forest, SVM, and Neural Network classifiers.\n"
   ]
  },
  {
   "cell_type": "code",
   "execution_count": null,
   "id": "0fb43e08",
   "metadata": {},
   "outputs": [],
   "source": [
    "\n",
    "models = {\n",
    "    \"RandomForest\": RandomForestClassifier(),\n",
    "    \"SVM\": SVC(probability=True),\n",
    "    \"NeuralNet\": MLPClassifier(max_iter=300)\n",
    "}\n",
    "\n",
    "for name, model in models.items():\n",
    "    model.fit(X_train_sel, y_train)\n",
    "    preds = model.predict(X_test_sel)\n",
    "    print(f\"Model: {name}\")\n",
    "    print(classification_report(y_test, preds))\n",
    "    print(\"ROC AUC:\", roc_auc_score(y_test, model.predict_proba(X_test_sel)[:,1]))\n",
    "    print(\"=\"*60)\n"
   ]
  },
  {
   "cell_type": "markdown",
   "id": "394c1d8d",
   "metadata": {},
   "source": [
    "\n",
    "## Benchmark Function Analysis\n",
    "Evaluate optimization performance on Sphere, Rosenbrock, and Rastrigin.\n"
   ]
  },
  {
   "cell_type": "code",
   "execution_count": null,
   "id": "4449e55c",
   "metadata": {},
   "outputs": [],
   "source": [
    "\n",
    "from scipy.optimize import rosen, rosen_der\n",
    "\n",
    "def sphere(x):\n",
    "    return sum(xi**2 for xi in x)\n",
    "\n",
    "def rastrigin(X):\n",
    "    A = 10\n",
    "    return A * len(X) + sum([(xi**2 - A * np.cos(2 * np.pi * xi)) for xi in X])\n",
    "\n",
    "# Random point\n",
    "x0 = np.random.uniform(-5,5,10)\n",
    "\n",
    "print(\"Sphere function:\", sphere(x0))\n",
    "print(\"Rosenbrock function:\", rosen(x0))\n",
    "print(\"Rastrigin function:\", rastrigin(x0))\n"
   ]
  },
  {
   "cell_type": "markdown",
   "id": "75251a8b",
   "metadata": {},
   "source": [
    "\n",
    "## Component-wise Analysis (Placeholders)\n",
    "You can vary:\n",
    "- Inertia weights (for PSO)\n",
    "- Evaporation rate (for ACO)\n",
    "- Predatory behavior intensity (for MWPA)\n"
   ]
  },
  {
   "cell_type": "markdown",
   "id": "2a6cc5ba",
   "metadata": {},
   "source": [
    "\n",
    "## Conclusion\n",
    "The hybrid swarm intelligence approach significantly improves feature selection for IDS. \n",
    "Next steps involve tuning MWPA behaviors and full hybridization of ACO, PSO, ABC, and MWPA.\n"
   ]
  }
 ],
 "metadata": {},
 "nbformat": 4,
 "nbformat_minor": 5
}
