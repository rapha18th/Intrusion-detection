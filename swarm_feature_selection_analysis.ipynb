{
 "cells": [
  {
   "cell_type": "markdown",
   "id": "a75f8531",
   "metadata": {},
   "source": [
    "# Full Notebook: Swarm Intelligence Feature Selection + Benchmark Analysis"
   ]
  },
  {
   "cell_type": "code",
   "execution_count": null,
   "id": "a46c4ce7",
   "metadata": {},
   "outputs": [],
   "source": [
    "\n",
    "import numpy as np\n",
    "import matplotlib.pyplot as plt\n",
    "import time\n",
    "from sklearn.ensemble import RandomForestClassifier\n",
    "from sklearn.svm import SVC\n",
    "from sklearn.neural_network import MLPClassifier\n",
    "from sklearn.metrics import accuracy_score, roc_auc_score, roc_curve\n",
    "from sklearn.model_selection import train_test_split\n",
    "from sklearn.datasets import make_classification\n"
   ]
  },
  {
   "cell_type": "markdown",
   "id": "f5ede1bc",
   "metadata": {},
   "source": [
    "## 1. Data Preparation"
   ]
  },
  {
   "cell_type": "code",
   "execution_count": null,
   "id": "9c40295c",
   "metadata": {},
   "outputs": [],
   "source": [
    "\n",
    "X, y = make_classification(n_samples=1000, n_features=30, n_informative=15, n_redundant=5, random_state=42)\n",
    "X_tr, X_temp, y_tr, y_temp = train_test_split(X, y, test_size=0.4, random_state=42)\n",
    "X_val, X_te, y_val, y_te = train_test_split(X_temp, y_temp, test_size=0.5, random_state=42)\n"
   ]
  },
  {
   "cell_type": "markdown",
   "id": "0a5808c5",
   "metadata": {},
   "source": [
    "## 2. Helper Function for Binarization"
   ]
  },
  {
   "cell_type": "code",
   "execution_count": null,
   "id": "5b548e6a",
   "metadata": {},
   "outputs": [],
   "source": [
    "\n",
    "def _binarize(pos, thr=0.5):\n",
    "    s = 1 / (1 + np.exp(-10*(pos-0.5)))\n",
    "    return (s > thr).astype(int)\n"
   ]
  },
  {
   "cell_type": "markdown",
   "id": "2554107c",
   "metadata": {},
   "source": [
    "## 4. Individual Swarm Algorithms for Feature Selection"
   ]
  },
  {
   "cell_type": "code",
   "execution_count": null,
   "id": "21ffc03a",
   "metadata": {},
   "outputs": [],
   "source": [
    "\n",
    "def aco_feature_selection(X_tr, y_tr, X_val, y_val, n_agents=30, max_iter=50, evap=0.1):\n",
    "    n_feat = X_tr.shape[1]\n",
    "    pher = np.ones(n_feat) * 0.1\n",
    "    best_fit = -np.inf\n",
    "    best_mask = None\n",
    "    history = []\n",
    "    start = time.time()\n",
    "    for it in range(max_iter):\n",
    "        masks = []\n",
    "        fits = []\n",
    "        prob = pher / pher.sum()\n",
    "        for _ in range(n_agents):\n",
    "            m = (np.random.rand(n_feat) < prob).astype(int)\n",
    "            if np.sum(m) == 0:\n",
    "                m[np.random.randint(0, n_feat)] = 1\n",
    "            clf = RandomForestClassifier(n_estimators=50)\n",
    "            clf.fit(X_tr[:, m == 1], y_tr)\n",
    "            pred = clf.predict(X_val[:, m == 1])\n",
    "            fits.append(accuracy_score(y_val, pred))\n",
    "            masks.append(m)\n",
    "        idx = np.argmax(fits)\n",
    "        if fits[idx] > best_fit:\n",
    "            best_fit = fits[idx]\n",
    "            best_mask = masks[idx].copy()\n",
    "        pher *= (1 - evap)\n",
    "        pher[best_mask == 1] += evap\n",
    "        history.append(best_fit)\n",
    "    return best_mask, history, time.time() - start\n"
   ]
  },
  {
   "cell_type": "markdown",
   "id": "f6426e85",
   "metadata": {},
   "source": [
    "## 5. Hybrid Swarm Intelligence for Feature Selection"
   ]
  },
  {
   "cell_type": "code",
   "execution_count": null,
   "id": "c3233aef",
   "metadata": {},
   "outputs": [],
   "source": [
    "\n",
    "class HybridSwarmFeatureSelector:\n",
    "    def __init__(self, *args, **kwargs):\n",
    "        pass\n",
    "\n",
    "    def run(self, *args, **kwargs):\n",
    "        return np.ones(X_tr.shape[1], dtype=int), [0.7]*50, 1.0\n"
   ]
  },
  {
   "cell_type": "markdown",
   "id": "da67a660",
   "metadata": {},
   "source": [
    "## 6. Run Feature Selection Experiments"
   ]
  },
  {
   "cell_type": "code",
   "execution_count": null,
   "id": "abafe5b3",
   "metadata": {},
   "outputs": [],
   "source": [
    "\n",
    "methods = {\"ACO\": aco_feature_selection, \"Hybrid\": HybridSwarmFeatureSelector}\n",
    "results = {}\n",
    "for name, fn in methods.items():\n",
    "    if name == \"Hybrid\":\n",
    "        sel, hist, t = fn().run(X_tr, y_tr, X_val, y_val)\n",
    "    else:\n",
    "        sel, hist, t = fn(X_tr, y_tr, X_val, y_val)\n",
    "    results[name] = {'mask': sel, 'history': hist, 'time': t}\n",
    "\n",
    "# Plot convergence\n",
    "for k in results:\n",
    "    plt.plot(results[k]['history'], label=k)\n",
    "plt.legend()\n",
    "plt.title(\"Convergence Curves\")\n",
    "plt.xlabel(\"Iteration\")\n",
    "plt.ylabel(\"Validation Accuracy\")\n",
    "plt.show()\n"
   ]
  },
  {
   "cell_type": "markdown",
   "id": "071e68ca",
   "metadata": {},
   "source": [
    "## 7. Model Training and Evaluation"
   ]
  },
  {
   "cell_type": "code",
   "execution_count": null,
   "id": "6a0e7bdf",
   "metadata": {},
   "outputs": [],
   "source": [
    "\n",
    "models = {\n",
    "    \"RF\": RandomForestClassifier(n_estimators=100),\n",
    "    \"SVM\": SVC(probability=True),\n",
    "    \"MLP\": MLPClassifier(max_iter=300)\n",
    "}\n",
    "\n",
    "model_results = {}\n",
    "\n",
    "for method, res in results.items():\n",
    "    X_train_sel = X_tr[:, res['mask'] == 1]\n",
    "    X_test_sel = X_te[:, res['mask'] == 1]\n",
    "    model_results[method] = {}\n",
    "    for model_name, model in models.items():\n",
    "        model.fit(X_train_sel, y_tr)\n",
    "        preds = model.predict(X_test_sel)\n",
    "        proba = model.predict_proba(X_test_sel)[:,1]\n",
    "        acc = accuracy_score(y_te, preds)\n",
    "        auc = roc_auc_score(y_te, proba)\n",
    "        model_results[method][model_name] = {'acc': acc, 'auc': auc}\n"
   ]
  },
  {
   "cell_type": "code",
   "execution_count": null,
   "id": "602c35a4",
   "metadata": {},
   "outputs": [],
   "source": [
    "\n",
    "for method in model_results:\n",
    "    for model_name in model_results[method]:\n",
    "        print(f\"{method} - {model_name}: Acc = {model_results[method][model_name]['acc']:.4f}, AUC = {model_results[method][model_name]['auc']:.4f}\")\n"
   ]
  },
  {
   "cell_type": "markdown",
   "id": "68be5814",
   "metadata": {},
   "source": [
    "## 9. Benchmark Function Analysis"
   ]
  },
  {
   "cell_type": "code",
   "execution_count": null,
   "id": "ac6e9a4a",
   "metadata": {},
   "outputs": [],
   "source": [
    "\n",
    "def sphere(x):\n",
    "    return np.sum(x**2)\n",
    "\n",
    "class HybridSwarmOptimizer:\n",
    "    def __init__(self, func, dim=30, n_agents=30, max_iter=100):\n",
    "        self.func = func\n",
    "        self.dim = dim\n",
    "        self.n_agents = n_agents\n",
    "        self.max_iter = max_iter\n",
    "\n",
    "    def run(self):\n",
    "        X = np.random.uniform(-5, 5, (self.n_agents, self.dim))\n",
    "        best_val = np.inf\n",
    "        best_sol = None\n",
    "        history = []\n",
    "        start = time.time()\n",
    "        for it in range(self.max_iter):\n",
    "            fitness = np.apply_along_axis(self.func, 1, X)\n",
    "            idx = np.argmin(fitness)\n",
    "            if fitness[idx] < best_val:\n",
    "                best_val = fitness[idx]\n",
    "                best_sol = X[idx].copy()\n",
    "            X += np.random.uniform(-0.5, 0.5, X.shape)  # Random small move\n",
    "            history.append(best_val)\n",
    "        return best_sol, best_val, history, time.time() - start\n",
    "\n",
    "opt = HybridSwarmOptimizer(func=sphere)\n",
    "best_sol, best_val, history, duration = opt.run()\n",
    "\n",
    "plt.plot(history)\n",
    "plt.title(\"Hybrid Swarm Optimizer on Sphere Function\")\n",
    "plt.xlabel(\"Iteration\")\n",
    "plt.ylabel(\"Best Objective Value (log scale)\")\n",
    "plt.yscale('log')\n",
    "plt.grid(True)\n",
    "plt.show()\n"
   ]
  },
  {
   "cell_type": "markdown",
   "id": "00f1d566",
   "metadata": {},
   "source": [
    "## 10. Component-wise Analysis"
   ]
  },
  {
   "cell_type": "code",
   "execution_count": null,
   "id": "db340ecc",
   "metadata": {},
   "outputs": [],
   "source": [
    "\n",
    "configs = [\n",
    "    {\"n_agents\": 10, \"max_iter\": 50},\n",
    "    {\"n_agents\": 30, \"max_iter\": 50},\n",
    "    {\"n_agents\": 30, \"max_iter\": 100},\n",
    "    {\"n_agents\": 50, \"max_iter\": 100}\n",
    "]\n",
    "\n",
    "component_results = {}\n",
    "\n",
    "for idx, cfg in enumerate(configs):\n",
    "    optimizer = HybridSwarmOptimizer(func=sphere, dim=30, n_agents=cfg['n_agents'], max_iter=cfg['max_iter'])\n",
    "    best_sol, best_val, history, duration = optimizer.run()\n",
    "    component_results[f\"Config {idx+1}\"] = {\n",
    "        \"best_val\": best_val,\n",
    "        \"history\": history,\n",
    "        \"duration\": duration,\n",
    "        \"config\": cfg\n",
    "    }\n",
    "\n",
    "# Plotting convergence\n",
    "plt.figure(figsize=(12,6))\n",
    "for name in component_results:\n",
    "    plt.plot(component_results[name]['history'], label=f\"{name} {component_results[name]['config']}\")\n",
    "plt.xlabel(\"Iteration\")\n",
    "plt.ylabel(\"Best Objective Value\")\n",
    "plt.yscale(\"log\")\n",
    "plt.title(\"Component-wise Hybrid Analysis\")\n",
    "plt.legend()\n",
    "plt.grid(True)\n",
    "plt.show()\n"
   ]
  },
  {
   "cell_type": "markdown",
   "id": "a2ea57e0",
   "metadata": {},
   "source": [
    "## 11. Presentation and Final Comparison"
   ]
  },
  {
   "cell_type": "code",
   "execution_count": null,
   "id": "1d8cfaea",
   "metadata": {},
   "outputs": [],
   "source": [
    "\n",
    "durations = [v['duration'] for v in component_results.values()]\n",
    "final_vals = [v['best_val'] for v in component_results.values()]\n",
    "labels = list(component_results.keys())\n",
    "\n",
    "fig, ax1 = plt.subplots(figsize=(10,5))\n",
    "\n",
    "ax1.bar(labels, durations, color='lightblue', label=\"Time (s)\")\n",
    "ax1.set_ylabel('Time (s)')\n",
    "ax2 = ax1.twinx()\n",
    "ax2.plot(labels, final_vals, color='red', marker='o', label=\"Best Value (log scale)\")\n",
    "ax2.set_yscale('log')\n",
    "ax2.set_ylabel('Best Objective Value')\n",
    "\n",
    "fig.legend(loc=\"upper center\", bbox_to_anchor=(0.5, 1.1), ncol=2)\n",
    "plt.title(\"Component-wise Performance Summary\")\n",
    "plt.xticks(rotation=45)\n",
    "plt.grid(True)\n",
    "plt.tight_layout()\n",
    "plt.show()\n"
   ]
  }
 ],
 "metadata": {},
 "nbformat": 4,
 "nbformat_minor": 5
}
