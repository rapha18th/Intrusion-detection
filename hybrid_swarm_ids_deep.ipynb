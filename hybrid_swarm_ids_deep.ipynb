{
 "cells": [
  {
   "cell_type": "markdown",
   "id": "310c2579",
   "metadata": {},
   "source": [
    "## Deep Hybrid Swarm Intelligence IDS\n",
    "\n",
    "This notebook implements an advanced hybrid swarm intelligence feature selection algorithm that integrates **Ant Colony Optimization (ACO)**, **Particle Swarm Optimization (PSO)**, **Artificial Bee Colony (ABC)**, and **Modified Wolf Predation Algorithm (MWPA)** within a single unified loop."
   ]
  },
  {
   "cell_type": "markdown",
   "id": "68422d48",
   "metadata": {},
   "source": [
    "### 1. Setup & Data Acquisition\n",
    "\n",
    "Install dependencies and load the NSL-KDD dataset."
   ]
  },
  {
   "cell_type": "code",
   "execution_count": null,
   "id": "39292f52",
   "metadata": {},
   "outputs": [],
   "source": [
    "\n",
    "!pip install pyswarms scikit-learn pandas numpy matplotlib seaborn scipy -q\n",
    "\n",
    "import pandas as pd\n",
    "from sklearn.preprocessing import LabelEncoder, StandardScaler\n",
    "from sklearn.model_selection import train_test_split\n",
    "\n",
    "# Load from GitHub mirror\n",
    "url = \"https://raw.githubusercontent.com/defcom17/NSL_KDD/master/KDDTrain+.txt\"\n",
    "cols_url = \"https://raw.githubusercontent.com/defcom17/NSL_KDD/master/KDDFeatureNames.txt\"\n",
    "features = pd.read_csv(cols_url, sep=\":\", header=None)[0].tolist() + ['target']\n",
    "data = pd.read_csv(url, names=features)\n"
   ]
  },
  {
   "cell_type": "markdown",
   "id": "26bf7448",
   "metadata": {},
   "source": [
    "### 2. Preprocessing"
   ]
  },
  {
   "cell_type": "code",
   "execution_count": null,
   "id": "013a1319",
   "metadata": {},
   "outputs": [],
   "source": [
    "\n",
    "# Encode and normalize\n",
    "le = LabelEncoder()\n",
    "for col in data.select_dtypes(include='object').columns:\n",
    "    data[col] = le.fit_transform(data[col])\n",
    "X = data.drop('target', axis=1).values\n",
    "y = (data['target'] != 0).astype(int).values  # binary\n",
    "\n",
    "scaler = StandardScaler()\n",
    "X_scaled = scaler.fit_transform(X)\n",
    "X_train, X_test, y_train, y_test = train_test_split(X_scaled, y, test_size=0.3, random_state=42)\n"
   ]
  },
  {
   "cell_type": "markdown",
   "id": "6291542e",
   "metadata": {},
   "source": [
    "### 3. Deep Hybrid Feature Selection\n",
    "\n",
    "At each iteration, apply ACO pheromone update, PSO velocity-position update, ABC bee phases, and MWPA predation on a population of candidate feature masks."
   ]
  },
  {
   "cell_type": "code",
   "execution_count": null,
   "id": "6b89746e",
   "metadata": {},
   "outputs": [],
   "source": [
    "\n",
    "import numpy as np\n",
    "from sklearn.ensemble import RandomForestClassifier\n",
    "from sklearn.model_selection import cross_val_score\n",
    "\n",
    "def deep_hybrid_selection(X, y, pop_size=30, iters=50):\n",
    "    n_feat = X.shape[1]\n",
    "    # Initialize population of masks [0,1]\n",
    "    pop = np.random.rand(pop_size, n_feat)\n",
    "    pheromone = np.ones(n_feat)\n",
    "    inertia = 0.9\n",
    "    \n",
    "    def binarize(arr):\n",
    "        return 1/(1+np.exp(-10*(arr-0.5))) > 0.5\n",
    "    \n",
    "    def fitness(mask):\n",
    "        sel = binarize(mask)\n",
    "        if not sel.any(): return 1.0\n",
    "        return 1 - cross_val_score(RandomForestClassifier(n_estimators=30), X[:, sel], y, cv=3).mean()\n",
    "\n",
    "    for t in range(iters):\n",
    "        # Evaluate\n",
    "        fits = np.array([fitness(ind) for ind in pop])\n",
    "        best_idx = np.argmin(fits)\n",
    "        best = pop[best_idx]\n",
    "        \n",
    "        # ACO update\n",
    "        pheromone = 0.8*pheromone + 0.2*(binarize(best).astype(float))\n",
    "        prob = pheromone / pheromone.sum()\n",
    "        \n",
    "        for i in range(pop_size):\n",
    "            # PSO update\n",
    "            vel = inertia*pop[i] + 1.5*np.random.rand(n_feat)*(best - pop[i])\n",
    "            pop[i] += vel\n",
    "            # ABC local search\n",
    "            k = np.random.choice([j for j in range(pop_size) if j!=i])\n",
    "            phi = np.random.uniform(-1,1,n_feat)\n",
    "            neighbor = pop[i] + phi*(pop[i] - pop[k])\n",
    "            if fitness(neighbor) < fits[i]:\n",
    "                pop[i] = neighbor\n",
    "            # MWPA predation\n",
    "            r1, r2 = np.random.rand(), np.random.rand()\n",
    "            A = 2*(1 - t/iters)*r1 - (1 - t/iters)\n",
    "            D = abs(2*r2*best - pop[i])\n",
    "            pop[i] = best - A*(D**1.5)\n",
    "            # ACO probabilistic mask\n",
    "            mask = np.random.rand(n_feat) < prob\n",
    "            pop[i] = np.where(mask, pop[i], pop[i])\n",
    "        \n",
    "        # Decrease inertia\n",
    "        inertia *= 0.99\n",
    "\n",
    "    final_mask = binarize(best)\n",
    "    return np.where(final_mask)[0]\n",
    "\n",
    "selected = deep_hybrid_selection(X_train, y_train)\n",
    "print(f\"Selected {len(selected)}/{X_train.shape[1]} features.\")\n"
   ]
  },
  {
   "cell_type": "markdown",
   "id": "8778da5b",
   "metadata": {},
   "source": [
    "### 4. Model Training & Evaluation"
   ]
  },
  {
   "cell_type": "code",
   "execution_count": null,
   "id": "877b79cc",
   "metadata": {},
   "outputs": [],
   "source": [
    "\n",
    "from sklearn.ensemble import RandomForestClassifier\n",
    "from sklearn.metrics import classification_report, roc_auc_score\n",
    "\n",
    "X_sel_train = X_train[:, selected]\n",
    "X_sel_test  = X_test[:, selected]\n",
    "\n",
    "clf = RandomForestClassifier(n_estimators=100, random_state=42)\n",
    "clf.fit(X_sel_train, y_train)\n",
    "y_pred = clf.predict(X_sel_test)\n",
    "print(classification_report(y_test, y_pred))\n",
    "print(\"ROC AUC:\", roc_auc_score(y_test, clf.predict_proba(X_sel_test)[:,1]))\n"
   ]
  },
  {
   "cell_type": "markdown",
   "id": "3c1d739a",
   "metadata": {},
   "source": [
    "### 5. Benchmark Analysis\n",
    "\n",
    "Evaluate convergence on benchmark functions."
   ]
  },
  {
   "cell_type": "code",
   "execution_count": null,
   "id": "cc856582",
   "metadata": {},
   "outputs": [],
   "source": [
    "\n",
    "from scipy.optimize import rosen\n",
    "def sphere(x): return np.sum(x**2)\n",
    "x0 = np.zeros(20)\n",
    "print(\"Sphere:\", sphere(x0))\n",
    "print(\"Rosenbrock:\", rosen(x0))\n"
   ]
  },
  {
   "cell_type": "markdown",
   "id": "9f0e1845",
   "metadata": {},
   "source": [
    "### 6. Conclusion\n",
    "\n",
    "This deep hybrid approach tightly couples four SI algorithms, enhancing exploration and exploitation in feature selection."
   ]
  }
 ],
 "metadata": {},
 "nbformat": 4,
 "nbformat_minor": 5
}
